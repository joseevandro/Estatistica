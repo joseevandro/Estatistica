{
  "nbformat": 4,
  "nbformat_minor": 0,
  "metadata": {
    "colab": {
      "provenance": [],
      "mount_file_id": "1kIaC1bPIzRjct04PxiEOrx-tKI52iLWv",
      "authorship_tag": "ABX9TyN7zptwAcEBdyeDv1vJo3Lo",
      "include_colab_link": true
    },
    "kernelspec": {
      "name": "python3",
      "display_name": "Python 3"
    },
    "language_info": {
      "name": "python"
    }
  },
  "cells": [
    {
      "cell_type": "markdown",
      "metadata": {
        "id": "view-in-github",
        "colab_type": "text"
      },
      "source": [
        "<a href=\"https://colab.research.google.com/github/joseevandro/Estatistica/blob/main/Evandro_Des_Ifood.ipynb\" target=\"_parent\"><img src=\"https://colab.research.google.com/assets/colab-badge.svg\" alt=\"Open In Colab\"/></a>"
      ]
    },
    {
      "cell_type": "markdown",
      "source": [
        "# Desafio Ifood\n",
        "## Curso de Estatística do básico ao avançado - *Renata Biaggi*\n",
        "\n",
        "*Desafio proposto no módulo Estatística Descritiva*"
      ],
      "metadata": {
        "id": "egYAmhW5Wgsq"
      }
    },
    {
      "cell_type": "markdown",
      "source": [
        "# Preparação do ambiente"
      ],
      "metadata": {
        "id": "pmw1zsrtqhw3"
      }
    },
    {
      "cell_type": "code",
      "source": [
        "from google.colab import drive\n",
        "drive.mount('/content/drive')"
      ],
      "metadata": {
        "id": "sQv2NDqYW_32",
        "colab": {
          "base_uri": "https://localhost:8080/"
        },
        "outputId": "8a6b8d23-af67-4f32-c74c-4978995c2787"
      },
      "execution_count": 1,
      "outputs": [
        {
          "output_type": "stream",
          "name": "stdout",
          "text": [
            "Drive already mounted at /content/drive; to attempt to forcibly remount, call drive.mount(\"/content/drive\", force_remount=True).\n"
          ]
        }
      ]
    },
    {
      "cell_type": "code",
      "source": [
        "# importando algumas bibliotecas que serão utilizadas:\n",
        "\n",
        "import pandas                as pd\n",
        "import numpy                 as np\n",
        "import plotly.express        as pl\n",
        "import plotly.graph_objects  as go\n",
        "import seaborn               as sns\n",
        "import matplotlib.pyplot     as plt \n",
        "from scipy import stats\n"
      ],
      "metadata": {
        "id": "TimneUHtXpiO"
      },
      "execution_count": 2,
      "outputs": []
    },
    {
      "cell_type": "markdown",
      "source": [
        "# 1. Análise preliminar dos dados:"
      ],
      "metadata": {
        "id": "H-inPEOdXMlc"
      }
    },
    {
      "cell_type": "code",
      "source": [
        "# Lendo a nossa tabela .CSV:\n",
        "\n",
        "df=pd.read_csv(\"/content/drive/MyDrive/Estudos/EBA/Bases/mkt_data.csv\")"
      ],
      "metadata": {
        "id": "nD0UJMbReNP0"
      },
      "execution_count": 3,
      "outputs": []
    },
    {
      "cell_type": "code",
      "source": [
        "df"
      ],
      "metadata": {
        "colab": {
          "base_uri": "https://localhost:8080/",
          "height": 505
        },
        "id": "CKcNor6Ke5XN",
        "outputId": "c051ffab-4f3a-43e4-d31b-2bd1241d1ef1"
      },
      "execution_count": 4,
      "outputs": [
        {
          "output_type": "execute_result",
          "data": {
            "text/plain": [
              "      Unnamed: 0   Income  Kidhome  Teenhome  Recency  MntWines  MntFruits  \\\n",
              "0              0  58138.0        0         0       58       635         88   \n",
              "1              1  46344.0        1         1       38        11          1   \n",
              "2              2  71613.0        0         0       26       426         49   \n",
              "3              3  26646.0        1         0       26        11          4   \n",
              "4              4  58293.0        1         0       94       173         43   \n",
              "...          ...      ...      ...       ...      ...       ...        ...   \n",
              "2200        2200  61223.0        0         1       46       709         43   \n",
              "2201        2201  64014.0        2         1       56       406          0   \n",
              "2202        2202  56981.0        0         0       91       908         48   \n",
              "2203        2203  69245.0        0         1        8       428         30   \n",
              "2204        2204  52869.0        1         1       40        84          3   \n",
              "\n",
              "      MntMeatProducts  MntFishProducts  MntSweetProducts  ...  \\\n",
              "0                 546              172                88  ...   \n",
              "1                   6                2                 1  ...   \n",
              "2                 127              111                21  ...   \n",
              "3                  20               10                 3  ...   \n",
              "4                 118               46                27  ...   \n",
              "...               ...              ...               ...  ...   \n",
              "2200              182               42               118  ...   \n",
              "2201               30                0                 0  ...   \n",
              "2202              217               32                12  ...   \n",
              "2203              214               80                30  ...   \n",
              "2204               61                2                 1  ...   \n",
              "\n",
              "      education_Graduation  education_Master  education_PhD  MntTotal  \\\n",
              "0                      3.0               NaN            NaN      1529   \n",
              "1                      3.0               NaN            NaN        21   \n",
              "2                      3.0               NaN            NaN       734   \n",
              "3                      3.0               NaN            NaN        48   \n",
              "4                      NaN               NaN            5.0       407   \n",
              "...                    ...               ...            ...       ...   \n",
              "2200                   3.0               NaN            NaN      1094   \n",
              "2201                   NaN               NaN            5.0       436   \n",
              "2202                   3.0               NaN            NaN      1217   \n",
              "2203                   NaN               4.0            NaN       782   \n",
              "2204                   NaN               NaN            5.0       151   \n",
              "\n",
              "      MntRegularProds  AcceptedCmpOverall  marital_status  education_level  \\\n",
              "0                1441                   0          Single       Graduation   \n",
              "1                  15                   0          Single       Graduation   \n",
              "2                 692                   0        Together       Graduation   \n",
              "3                  43                   0        Together       Graduation   \n",
              "4                 392                   0         Married              PhD   \n",
              "...               ...                 ...             ...              ...   \n",
              "2200              847                   0         Married       Graduation   \n",
              "2201              428                   1        Together              PhD   \n",
              "2202             1193                   1        Divorced       Graduation   \n",
              "2203              721                   0        Together           Master   \n",
              "2204              130                   0         Married              PhD   \n",
              "\n",
              "      kids  expenses  \n",
              "0        0      1529  \n",
              "1        2        21  \n",
              "2        0       734  \n",
              "3        1        48  \n",
              "4        1       407  \n",
              "...    ...       ...  \n",
              "2200     1      1094  \n",
              "2201     3       436  \n",
              "2202     0      1217  \n",
              "2203     1       782  \n",
              "2204     2       151  \n",
              "\n",
              "[2205 rows x 44 columns]"
            ],
            "text/html": [
              "\n",
              "  <div id=\"df-b737d269-aaa2-4e19-aeaf-7a8c41250c4a\">\n",
              "    <div class=\"colab-df-container\">\n",
              "      <div>\n",
              "<style scoped>\n",
              "    .dataframe tbody tr th:only-of-type {\n",
              "        vertical-align: middle;\n",
              "    }\n",
              "\n",
              "    .dataframe tbody tr th {\n",
              "        vertical-align: top;\n",
              "    }\n",
              "\n",
              "    .dataframe thead th {\n",
              "        text-align: right;\n",
              "    }\n",
              "</style>\n",
              "<table border=\"1\" class=\"dataframe\">\n",
              "  <thead>\n",
              "    <tr style=\"text-align: right;\">\n",
              "      <th></th>\n",
              "      <th>Unnamed: 0</th>\n",
              "      <th>Income</th>\n",
              "      <th>Kidhome</th>\n",
              "      <th>Teenhome</th>\n",
              "      <th>Recency</th>\n",
              "      <th>MntWines</th>\n",
              "      <th>MntFruits</th>\n",
              "      <th>MntMeatProducts</th>\n",
              "      <th>MntFishProducts</th>\n",
              "      <th>MntSweetProducts</th>\n",
              "      <th>...</th>\n",
              "      <th>education_Graduation</th>\n",
              "      <th>education_Master</th>\n",
              "      <th>education_PhD</th>\n",
              "      <th>MntTotal</th>\n",
              "      <th>MntRegularProds</th>\n",
              "      <th>AcceptedCmpOverall</th>\n",
              "      <th>marital_status</th>\n",
              "      <th>education_level</th>\n",
              "      <th>kids</th>\n",
              "      <th>expenses</th>\n",
              "    </tr>\n",
              "  </thead>\n",
              "  <tbody>\n",
              "    <tr>\n",
              "      <th>0</th>\n",
              "      <td>0</td>\n",
              "      <td>58138.0</td>\n",
              "      <td>0</td>\n",
              "      <td>0</td>\n",
              "      <td>58</td>\n",
              "      <td>635</td>\n",
              "      <td>88</td>\n",
              "      <td>546</td>\n",
              "      <td>172</td>\n",
              "      <td>88</td>\n",
              "      <td>...</td>\n",
              "      <td>3.0</td>\n",
              "      <td>NaN</td>\n",
              "      <td>NaN</td>\n",
              "      <td>1529</td>\n",
              "      <td>1441</td>\n",
              "      <td>0</td>\n",
              "      <td>Single</td>\n",
              "      <td>Graduation</td>\n",
              "      <td>0</td>\n",
              "      <td>1529</td>\n",
              "    </tr>\n",
              "    <tr>\n",
              "      <th>1</th>\n",
              "      <td>1</td>\n",
              "      <td>46344.0</td>\n",
              "      <td>1</td>\n",
              "      <td>1</td>\n",
              "      <td>38</td>\n",
              "      <td>11</td>\n",
              "      <td>1</td>\n",
              "      <td>6</td>\n",
              "      <td>2</td>\n",
              "      <td>1</td>\n",
              "      <td>...</td>\n",
              "      <td>3.0</td>\n",
              "      <td>NaN</td>\n",
              "      <td>NaN</td>\n",
              "      <td>21</td>\n",
              "      <td>15</td>\n",
              "      <td>0</td>\n",
              "      <td>Single</td>\n",
              "      <td>Graduation</td>\n",
              "      <td>2</td>\n",
              "      <td>21</td>\n",
              "    </tr>\n",
              "    <tr>\n",
              "      <th>2</th>\n",
              "      <td>2</td>\n",
              "      <td>71613.0</td>\n",
              "      <td>0</td>\n",
              "      <td>0</td>\n",
              "      <td>26</td>\n",
              "      <td>426</td>\n",
              "      <td>49</td>\n",
              "      <td>127</td>\n",
              "      <td>111</td>\n",
              "      <td>21</td>\n",
              "      <td>...</td>\n",
              "      <td>3.0</td>\n",
              "      <td>NaN</td>\n",
              "      <td>NaN</td>\n",
              "      <td>734</td>\n",
              "      <td>692</td>\n",
              "      <td>0</td>\n",
              "      <td>Together</td>\n",
              "      <td>Graduation</td>\n",
              "      <td>0</td>\n",
              "      <td>734</td>\n",
              "    </tr>\n",
              "    <tr>\n",
              "      <th>3</th>\n",
              "      <td>3</td>\n",
              "      <td>26646.0</td>\n",
              "      <td>1</td>\n",
              "      <td>0</td>\n",
              "      <td>26</td>\n",
              "      <td>11</td>\n",
              "      <td>4</td>\n",
              "      <td>20</td>\n",
              "      <td>10</td>\n",
              "      <td>3</td>\n",
              "      <td>...</td>\n",
              "      <td>3.0</td>\n",
              "      <td>NaN</td>\n",
              "      <td>NaN</td>\n",
              "      <td>48</td>\n",
              "      <td>43</td>\n",
              "      <td>0</td>\n",
              "      <td>Together</td>\n",
              "      <td>Graduation</td>\n",
              "      <td>1</td>\n",
              "      <td>48</td>\n",
              "    </tr>\n",
              "    <tr>\n",
              "      <th>4</th>\n",
              "      <td>4</td>\n",
              "      <td>58293.0</td>\n",
              "      <td>1</td>\n",
              "      <td>0</td>\n",
              "      <td>94</td>\n",
              "      <td>173</td>\n",
              "      <td>43</td>\n",
              "      <td>118</td>\n",
              "      <td>46</td>\n",
              "      <td>27</td>\n",
              "      <td>...</td>\n",
              "      <td>NaN</td>\n",
              "      <td>NaN</td>\n",
              "      <td>5.0</td>\n",
              "      <td>407</td>\n",
              "      <td>392</td>\n",
              "      <td>0</td>\n",
              "      <td>Married</td>\n",
              "      <td>PhD</td>\n",
              "      <td>1</td>\n",
              "      <td>407</td>\n",
              "    </tr>\n",
              "    <tr>\n",
              "      <th>...</th>\n",
              "      <td>...</td>\n",
              "      <td>...</td>\n",
              "      <td>...</td>\n",
              "      <td>...</td>\n",
              "      <td>...</td>\n",
              "      <td>...</td>\n",
              "      <td>...</td>\n",
              "      <td>...</td>\n",
              "      <td>...</td>\n",
              "      <td>...</td>\n",
              "      <td>...</td>\n",
              "      <td>...</td>\n",
              "      <td>...</td>\n",
              "      <td>...</td>\n",
              "      <td>...</td>\n",
              "      <td>...</td>\n",
              "      <td>...</td>\n",
              "      <td>...</td>\n",
              "      <td>...</td>\n",
              "      <td>...</td>\n",
              "      <td>...</td>\n",
              "    </tr>\n",
              "    <tr>\n",
              "      <th>2200</th>\n",
              "      <td>2200</td>\n",
              "      <td>61223.0</td>\n",
              "      <td>0</td>\n",
              "      <td>1</td>\n",
              "      <td>46</td>\n",
              "      <td>709</td>\n",
              "      <td>43</td>\n",
              "      <td>182</td>\n",
              "      <td>42</td>\n",
              "      <td>118</td>\n",
              "      <td>...</td>\n",
              "      <td>3.0</td>\n",
              "      <td>NaN</td>\n",
              "      <td>NaN</td>\n",
              "      <td>1094</td>\n",
              "      <td>847</td>\n",
              "      <td>0</td>\n",
              "      <td>Married</td>\n",
              "      <td>Graduation</td>\n",
              "      <td>1</td>\n",
              "      <td>1094</td>\n",
              "    </tr>\n",
              "    <tr>\n",
              "      <th>2201</th>\n",
              "      <td>2201</td>\n",
              "      <td>64014.0</td>\n",
              "      <td>2</td>\n",
              "      <td>1</td>\n",
              "      <td>56</td>\n",
              "      <td>406</td>\n",
              "      <td>0</td>\n",
              "      <td>30</td>\n",
              "      <td>0</td>\n",
              "      <td>0</td>\n",
              "      <td>...</td>\n",
              "      <td>NaN</td>\n",
              "      <td>NaN</td>\n",
              "      <td>5.0</td>\n",
              "      <td>436</td>\n",
              "      <td>428</td>\n",
              "      <td>1</td>\n",
              "      <td>Together</td>\n",
              "      <td>PhD</td>\n",
              "      <td>3</td>\n",
              "      <td>436</td>\n",
              "    </tr>\n",
              "    <tr>\n",
              "      <th>2202</th>\n",
              "      <td>2202</td>\n",
              "      <td>56981.0</td>\n",
              "      <td>0</td>\n",
              "      <td>0</td>\n",
              "      <td>91</td>\n",
              "      <td>908</td>\n",
              "      <td>48</td>\n",
              "      <td>217</td>\n",
              "      <td>32</td>\n",
              "      <td>12</td>\n",
              "      <td>...</td>\n",
              "      <td>3.0</td>\n",
              "      <td>NaN</td>\n",
              "      <td>NaN</td>\n",
              "      <td>1217</td>\n",
              "      <td>1193</td>\n",
              "      <td>1</td>\n",
              "      <td>Divorced</td>\n",
              "      <td>Graduation</td>\n",
              "      <td>0</td>\n",
              "      <td>1217</td>\n",
              "    </tr>\n",
              "    <tr>\n",
              "      <th>2203</th>\n",
              "      <td>2203</td>\n",
              "      <td>69245.0</td>\n",
              "      <td>0</td>\n",
              "      <td>1</td>\n",
              "      <td>8</td>\n",
              "      <td>428</td>\n",
              "      <td>30</td>\n",
              "      <td>214</td>\n",
              "      <td>80</td>\n",
              "      <td>30</td>\n",
              "      <td>...</td>\n",
              "      <td>NaN</td>\n",
              "      <td>4.0</td>\n",
              "      <td>NaN</td>\n",
              "      <td>782</td>\n",
              "      <td>721</td>\n",
              "      <td>0</td>\n",
              "      <td>Together</td>\n",
              "      <td>Master</td>\n",
              "      <td>1</td>\n",
              "      <td>782</td>\n",
              "    </tr>\n",
              "    <tr>\n",
              "      <th>2204</th>\n",
              "      <td>2204</td>\n",
              "      <td>52869.0</td>\n",
              "      <td>1</td>\n",
              "      <td>1</td>\n",
              "      <td>40</td>\n",
              "      <td>84</td>\n",
              "      <td>3</td>\n",
              "      <td>61</td>\n",
              "      <td>2</td>\n",
              "      <td>1</td>\n",
              "      <td>...</td>\n",
              "      <td>NaN</td>\n",
              "      <td>NaN</td>\n",
              "      <td>5.0</td>\n",
              "      <td>151</td>\n",
              "      <td>130</td>\n",
              "      <td>0</td>\n",
              "      <td>Married</td>\n",
              "      <td>PhD</td>\n",
              "      <td>2</td>\n",
              "      <td>151</td>\n",
              "    </tr>\n",
              "  </tbody>\n",
              "</table>\n",
              "<p>2205 rows × 44 columns</p>\n",
              "</div>\n",
              "      <button class=\"colab-df-convert\" onclick=\"convertToInteractive('df-b737d269-aaa2-4e19-aeaf-7a8c41250c4a')\"\n",
              "              title=\"Convert this dataframe to an interactive table.\"\n",
              "              style=\"display:none;\">\n",
              "        \n",
              "  <svg xmlns=\"http://www.w3.org/2000/svg\" height=\"24px\"viewBox=\"0 0 24 24\"\n",
              "       width=\"24px\">\n",
              "    <path d=\"M0 0h24v24H0V0z\" fill=\"none\"/>\n",
              "    <path d=\"M18.56 5.44l.94 2.06.94-2.06 2.06-.94-2.06-.94-.94-2.06-.94 2.06-2.06.94zm-11 1L8.5 8.5l.94-2.06 2.06-.94-2.06-.94L8.5 2.5l-.94 2.06-2.06.94zm10 10l.94 2.06.94-2.06 2.06-.94-2.06-.94-.94-2.06-.94 2.06-2.06.94z\"/><path d=\"M17.41 7.96l-1.37-1.37c-.4-.4-.92-.59-1.43-.59-.52 0-1.04.2-1.43.59L10.3 9.45l-7.72 7.72c-.78.78-.78 2.05 0 2.83L4 21.41c.39.39.9.59 1.41.59.51 0 1.02-.2 1.41-.59l7.78-7.78 2.81-2.81c.8-.78.8-2.07 0-2.86zM5.41 20L4 18.59l7.72-7.72 1.47 1.35L5.41 20z\"/>\n",
              "  </svg>\n",
              "      </button>\n",
              "      \n",
              "  <style>\n",
              "    .colab-df-container {\n",
              "      display:flex;\n",
              "      flex-wrap:wrap;\n",
              "      gap: 12px;\n",
              "    }\n",
              "\n",
              "    .colab-df-convert {\n",
              "      background-color: #E8F0FE;\n",
              "      border: none;\n",
              "      border-radius: 50%;\n",
              "      cursor: pointer;\n",
              "      display: none;\n",
              "      fill: #1967D2;\n",
              "      height: 32px;\n",
              "      padding: 0 0 0 0;\n",
              "      width: 32px;\n",
              "    }\n",
              "\n",
              "    .colab-df-convert:hover {\n",
              "      background-color: #E2EBFA;\n",
              "      box-shadow: 0px 1px 2px rgba(60, 64, 67, 0.3), 0px 1px 3px 1px rgba(60, 64, 67, 0.15);\n",
              "      fill: #174EA6;\n",
              "    }\n",
              "\n",
              "    [theme=dark] .colab-df-convert {\n",
              "      background-color: #3B4455;\n",
              "      fill: #D2E3FC;\n",
              "    }\n",
              "\n",
              "    [theme=dark] .colab-df-convert:hover {\n",
              "      background-color: #434B5C;\n",
              "      box-shadow: 0px 1px 3px 1px rgba(0, 0, 0, 0.15);\n",
              "      filter: drop-shadow(0px 1px 2px rgba(0, 0, 0, 0.3));\n",
              "      fill: #FFFFFF;\n",
              "    }\n",
              "  </style>\n",
              "\n",
              "      <script>\n",
              "        const buttonEl =\n",
              "          document.querySelector('#df-b737d269-aaa2-4e19-aeaf-7a8c41250c4a button.colab-df-convert');\n",
              "        buttonEl.style.display =\n",
              "          google.colab.kernel.accessAllowed ? 'block' : 'none';\n",
              "\n",
              "        async function convertToInteractive(key) {\n",
              "          const element = document.querySelector('#df-b737d269-aaa2-4e19-aeaf-7a8c41250c4a');\n",
              "          const dataTable =\n",
              "            await google.colab.kernel.invokeFunction('convertToInteractive',\n",
              "                                                     [key], {});\n",
              "          if (!dataTable) return;\n",
              "\n",
              "          const docLinkHtml = 'Like what you see? Visit the ' +\n",
              "            '<a target=\"_blank\" href=https://colab.research.google.com/notebooks/data_table.ipynb>data table notebook</a>'\n",
              "            + ' to learn more about interactive tables.';\n",
              "          element.innerHTML = '';\n",
              "          dataTable['output_type'] = 'display_data';\n",
              "          await google.colab.output.renderOutput(dataTable, element);\n",
              "          const docLink = document.createElement('div');\n",
              "          docLink.innerHTML = docLinkHtml;\n",
              "          element.appendChild(docLink);\n",
              "        }\n",
              "      </script>\n",
              "    </div>\n",
              "  </div>\n",
              "  "
            ]
          },
          "metadata": {},
          "execution_count": 4
        }
      ]
    },
    {
      "cell_type": "code",
      "source": [
        "# Qtde de linhas e Colunas:\n",
        "linhas = len(df)\n",
        "colunas = len(df.columns)\n",
        "print(\"Linhas : \",linhas)\n",
        "print(\"Colunas: \",colunas)"
      ],
      "metadata": {
        "colab": {
          "base_uri": "https://localhost:8080/"
        },
        "id": "eZNB2riht_C1",
        "outputId": "a54da265-e39c-4927-db3d-155b21f2bf03"
      },
      "execution_count": null,
      "outputs": [
        {
          "output_type": "stream",
          "name": "stdout",
          "text": [
            "Linhas :  2205\n",
            "Colunas:  44\n"
          ]
        }
      ]
    },
    {
      "cell_type": "code",
      "source": [
        "# Colunas numéricas (geral):\n",
        "df.info()"
      ],
      "metadata": {
        "colab": {
          "base_uri": "https://localhost:8080/"
        },
        "id": "z34ugSrUxvHL",
        "outputId": "8b028103-4f20-4c23-e45e-546b39d972fc"
      },
      "execution_count": 5,
      "outputs": [
        {
          "output_type": "stream",
          "name": "stdout",
          "text": [
            "<class 'pandas.core.frame.DataFrame'>\n",
            "RangeIndex: 2205 entries, 0 to 2204\n",
            "Data columns (total 44 columns):\n",
            " #   Column                Non-Null Count  Dtype  \n",
            "---  ------                --------------  -----  \n",
            " 0   Unnamed: 0            2205 non-null   int64  \n",
            " 1   Income                2205 non-null   float64\n",
            " 2   Kidhome               2205 non-null   int64  \n",
            " 3   Teenhome              2205 non-null   int64  \n",
            " 4   Recency               2205 non-null   int64  \n",
            " 5   MntWines              2205 non-null   int64  \n",
            " 6   MntFruits             2205 non-null   int64  \n",
            " 7   MntMeatProducts       2205 non-null   int64  \n",
            " 8   MntFishProducts       2205 non-null   int64  \n",
            " 9   MntSweetProducts      2205 non-null   int64  \n",
            " 10  MntGoldProds          2205 non-null   int64  \n",
            " 11  NumDealsPurchases     2205 non-null   int64  \n",
            " 12  NumWebPurchases       2205 non-null   int64  \n",
            " 13  NumCatalogPurchases   2205 non-null   int64  \n",
            " 14  NumStorePurchases     2205 non-null   int64  \n",
            " 15  NumWebVisitsMonth     2205 non-null   int64  \n",
            " 16  AcceptedCmp3          2205 non-null   int64  \n",
            " 17  AcceptedCmp4          2205 non-null   int64  \n",
            " 18  AcceptedCmp5          2205 non-null   int64  \n",
            " 19  AcceptedCmp1          2205 non-null   int64  \n",
            " 20  AcceptedCmp2          2205 non-null   int64  \n",
            " 21  Complain              2205 non-null   int64  \n",
            " 22  Z_CostContact         2205 non-null   int64  \n",
            " 23  Z_Revenue             2205 non-null   int64  \n",
            " 24  Response              2205 non-null   int64  \n",
            " 25  Age                   2205 non-null   int64  \n",
            " 26  Customer_Days         2205 non-null   int64  \n",
            " 27  marital_Divorced      230 non-null    float64\n",
            " 28  marital_Married       854 non-null    float64\n",
            " 29  marital_Single        477 non-null    float64\n",
            " 30  marital_Together      568 non-null    float64\n",
            " 31  marital_Widow         76 non-null     float64\n",
            " 32  education_2n Cycle    198 non-null    float64\n",
            " 33  education_Basic       54 non-null     float64\n",
            " 34  education_Graduation  1113 non-null   float64\n",
            " 35  education_Master      364 non-null    float64\n",
            " 36  education_PhD         476 non-null    float64\n",
            " 37  MntTotal              2205 non-null   int64  \n",
            " 38  MntRegularProds       2205 non-null   int64  \n",
            " 39  AcceptedCmpOverall    2205 non-null   int64  \n",
            " 40  marital_status        2205 non-null   object \n",
            " 41  education_level       2205 non-null   object \n",
            " 42  kids                  2205 non-null   int64  \n",
            " 43  expenses              2205 non-null   int64  \n",
            "dtypes: float64(11), int64(31), object(2)\n",
            "memory usage: 758.1+ KB\n"
          ]
        }
      ]
    },
    {
      "cell_type": "code",
      "source": [
        "# Colunas numéricas (exclusivas):\n",
        "numerics=[\"int16\",\"int32\",\"int64\",\"float16\",\"float32\",\"float64\"]\n",
        "df_numeric=df.select_dtypes(include=numerics)\n",
        "list(df_numeric.columns.values)"
      ],
      "metadata": {
        "colab": {
          "base_uri": "https://localhost:8080/"
        },
        "id": "0X-7XHD01Xdx",
        "outputId": "3914756d-1d36-4af5-bfb2-e8333b50d232"
      },
      "execution_count": 6,
      "outputs": [
        {
          "output_type": "execute_result",
          "data": {
            "text/plain": [
              "['Unnamed: 0',\n",
              " 'Income',\n",
              " 'Kidhome',\n",
              " 'Teenhome',\n",
              " 'Recency',\n",
              " 'MntWines',\n",
              " 'MntFruits',\n",
              " 'MntMeatProducts',\n",
              " 'MntFishProducts',\n",
              " 'MntSweetProducts',\n",
              " 'MntGoldProds',\n",
              " 'NumDealsPurchases',\n",
              " 'NumWebPurchases',\n",
              " 'NumCatalogPurchases',\n",
              " 'NumStorePurchases',\n",
              " 'NumWebVisitsMonth',\n",
              " 'AcceptedCmp3',\n",
              " 'AcceptedCmp4',\n",
              " 'AcceptedCmp5',\n",
              " 'AcceptedCmp1',\n",
              " 'AcceptedCmp2',\n",
              " 'Complain',\n",
              " 'Z_CostContact',\n",
              " 'Z_Revenue',\n",
              " 'Response',\n",
              " 'Age',\n",
              " 'Customer_Days',\n",
              " 'marital_Divorced',\n",
              " 'marital_Married',\n",
              " 'marital_Single',\n",
              " 'marital_Together',\n",
              " 'marital_Widow',\n",
              " 'education_2n Cycle',\n",
              " 'education_Basic',\n",
              " 'education_Graduation',\n",
              " 'education_Master',\n",
              " 'education_PhD',\n",
              " 'MntTotal',\n",
              " 'MntRegularProds',\n",
              " 'AcceptedCmpOverall',\n",
              " 'kids',\n",
              " 'expenses']"
            ]
          },
          "metadata": {},
          "execution_count": 6
        }
      ]
    },
    {
      "cell_type": "code",
      "source": [
        "# Quantidade de colunas numéricas:\n",
        "print(\"Total...: \",len(df_numeric.columns.values))"
      ],
      "metadata": {
        "colab": {
          "base_uri": "https://localhost:8080/"
        },
        "id": "WMqmleIj99Zq",
        "outputId": "3869bfca-7951-46e3-8467-bba31cfb7374"
      },
      "execution_count": null,
      "outputs": [
        {
          "output_type": "stream",
          "name": "stdout",
          "text": [
            "Total...:  42\n"
          ]
        }
      ]
    },
    {
      "cell_type": "code",
      "source": [
        "# Verificando se existem dados duplicados:\n",
        "duplicados = df.duplicated()\n",
        "duplicados.sum()"
      ],
      "metadata": {
        "colab": {
          "base_uri": "https://localhost:8080/"
        },
        "id": "324fMNd0_dAh",
        "outputId": "e6e3347b-3a4c-40df-ba3f-ef3bea5d8234"
      },
      "execution_count": null,
      "outputs": [
        {
          "output_type": "execute_result",
          "data": {
            "text/plain": [
              "0"
            ]
          },
          "metadata": {},
          "execution_count": 16
        }
      ]
    },
    {
      "cell_type": "code",
      "source": [
        "# Verificando a existência de dados nulos:\n",
        "df.isnull().sum()"
      ],
      "metadata": {
        "colab": {
          "base_uri": "https://localhost:8080/"
        },
        "id": "Hml9iCLlBBy6",
        "outputId": "24f7bb88-5e8c-4ee1-83a7-fd55938f792e"
      },
      "execution_count": null,
      "outputs": [
        {
          "output_type": "execute_result",
          "data": {
            "text/plain": [
              "Unnamed: 0                 0\n",
              "Income                     0\n",
              "Kidhome                    0\n",
              "Teenhome                   0\n",
              "Recency                    0\n",
              "MntWines                   0\n",
              "MntFruits                  0\n",
              "MntMeatProducts            0\n",
              "MntFishProducts            0\n",
              "MntSweetProducts           0\n",
              "MntGoldProds               0\n",
              "NumDealsPurchases          0\n",
              "NumWebPurchases            0\n",
              "NumCatalogPurchases        0\n",
              "NumStorePurchases          0\n",
              "NumWebVisitsMonth          0\n",
              "AcceptedCmp3               0\n",
              "AcceptedCmp4               0\n",
              "AcceptedCmp5               0\n",
              "AcceptedCmp1               0\n",
              "AcceptedCmp2               0\n",
              "Complain                   0\n",
              "Z_CostContact              0\n",
              "Z_Revenue                  0\n",
              "Response                   0\n",
              "Age                        0\n",
              "Customer_Days              0\n",
              "marital_Divorced        1975\n",
              "marital_Married         1351\n",
              "marital_Single          1728\n",
              "marital_Together        1637\n",
              "marital_Widow           2129\n",
              "education_2n Cycle      2007\n",
              "education_Basic         2151\n",
              "education_Graduation    1092\n",
              "education_Master        1841\n",
              "education_PhD           1729\n",
              "MntTotal                   0\n",
              "MntRegularProds            0\n",
              "AcceptedCmpOverall         0\n",
              "marital_status             0\n",
              "education_level            0\n",
              "kids                       0\n",
              "expenses                   0\n",
              "dtype: int64"
            ]
          },
          "metadata": {},
          "execution_count": 17
        }
      ]
    },
    {
      "cell_type": "code",
      "source": [
        "# Verificando o % de dados nulos existentes na coluna em relação ao total de linhas:\n",
        "\n",
        "df.isnull().sum()/df.shape[0]*100"
      ],
      "metadata": {
        "colab": {
          "base_uri": "https://localhost:8080/"
        },
        "id": "krclxOdFXWnh",
        "outputId": "3b55ae4f-3614-40a1-e3fd-3781fc85bcfa"
      },
      "execution_count": null,
      "outputs": [
        {
          "output_type": "execute_result",
          "data": {
            "text/plain": [
              "Unnamed: 0               0.000000\n",
              "Income                   0.000000\n",
              "Kidhome                  0.000000\n",
              "Teenhome                 0.000000\n",
              "Recency                  0.000000\n",
              "MntWines                 0.000000\n",
              "MntFruits                0.000000\n",
              "MntMeatProducts          0.000000\n",
              "MntFishProducts          0.000000\n",
              "MntSweetProducts         0.000000\n",
              "MntGoldProds             0.000000\n",
              "NumDealsPurchases        0.000000\n",
              "NumWebPurchases          0.000000\n",
              "NumCatalogPurchases      0.000000\n",
              "NumStorePurchases        0.000000\n",
              "NumWebVisitsMonth        0.000000\n",
              "AcceptedCmp3             0.000000\n",
              "AcceptedCmp4             0.000000\n",
              "AcceptedCmp5             0.000000\n",
              "AcceptedCmp1             0.000000\n",
              "AcceptedCmp2             0.000000\n",
              "Complain                 0.000000\n",
              "Z_CostContact            0.000000\n",
              "Z_Revenue                0.000000\n",
              "Response                 0.000000\n",
              "Age                      0.000000\n",
              "Customer_Days            0.000000\n",
              "marital_Divorced        89.569161\n",
              "marital_Married         61.269841\n",
              "marital_Single          78.367347\n",
              "marital_Together        74.240363\n",
              "marital_Widow           96.553288\n",
              "education_2n Cycle      91.020408\n",
              "education_Basic         97.551020\n",
              "education_Graduation    49.523810\n",
              "education_Master        83.492063\n",
              "education_PhD           78.412698\n",
              "MntTotal                 0.000000\n",
              "MntRegularProds          0.000000\n",
              "AcceptedCmpOverall       0.000000\n",
              "marital_status           0.000000\n",
              "education_level          0.000000\n",
              "kids                     0.000000\n",
              "expenses                 0.000000\n",
              "dtype: float64"
            ]
          },
          "metadata": {},
          "execution_count": 4
        }
      ]
    },
    {
      "cell_type": "code",
      "source": [
        "# Como existem colunas que apresentam uma quantidade discrepantes de dados nulos, que não são relevantes em nossa \n",
        "# análise, iremos eliminá-las e utilizar as colunas correspondentes \"marital_status\"\n",
        "# e \"education_level\" como melhor medida a ser aplicada:\n",
        "\n",
        "df_clean=df.dropna(inplace=False, axis=1)\n",
        "df_clean"
      ],
      "metadata": {
        "colab": {
          "base_uri": "https://localhost:8080/",
          "height": 505
        },
        "id": "mwgAwDsroQlq",
        "outputId": "6ee4e9aa-9c00-42aa-b3dd-30c122b73502"
      },
      "execution_count": null,
      "outputs": [
        {
          "output_type": "execute_result",
          "data": {
            "text/plain": [
              "      Unnamed: 0   Income  Kidhome  Teenhome  Recency  MntWines  MntFruits  \\\n",
              "0              0  58138.0        0         0       58       635         88   \n",
              "1              1  46344.0        1         1       38        11          1   \n",
              "2              2  71613.0        0         0       26       426         49   \n",
              "3              3  26646.0        1         0       26        11          4   \n",
              "4              4  58293.0        1         0       94       173         43   \n",
              "...          ...      ...      ...       ...      ...       ...        ...   \n",
              "2200        2200  61223.0        0         1       46       709         43   \n",
              "2201        2201  64014.0        2         1       56       406          0   \n",
              "2202        2202  56981.0        0         0       91       908         48   \n",
              "2203        2203  69245.0        0         1        8       428         30   \n",
              "2204        2204  52869.0        1         1       40        84          3   \n",
              "\n",
              "      MntMeatProducts  MntFishProducts  MntSweetProducts  ...  Response  Age  \\\n",
              "0                 546              172                88  ...         1   63   \n",
              "1                   6                2                 1  ...         0   66   \n",
              "2                 127              111                21  ...         0   55   \n",
              "3                  20               10                 3  ...         0   36   \n",
              "4                 118               46                27  ...         0   39   \n",
              "...               ...              ...               ...  ...       ...  ...   \n",
              "2200              182               42               118  ...         0   53   \n",
              "2201               30                0                 0  ...         0   74   \n",
              "2202              217               32                12  ...         0   39   \n",
              "2203              214               80                30  ...         0   64   \n",
              "2204               61                2                 1  ...         1   66   \n",
              "\n",
              "      Customer_Days  MntTotal  MntRegularProds  AcceptedCmpOverall  \\\n",
              "0              2822      1529             1441                   0   \n",
              "1              2272        21               15                   0   \n",
              "2              2471       734              692                   0   \n",
              "3              2298        48               43                   0   \n",
              "4              2320       407              392                   0   \n",
              "...             ...       ...              ...                 ...   \n",
              "2200           2540      1094              847                   0   \n",
              "2201           2178       436              428                   1   \n",
              "2202           2314      1217             1193                   1   \n",
              "2203           2315       782              721                   0   \n",
              "2204           2781       151              130                   0   \n",
              "\n",
              "      marital_status  education_level  kids  expenses  \n",
              "0             Single       Graduation     0      1529  \n",
              "1             Single       Graduation     2        21  \n",
              "2           Together       Graduation     0       734  \n",
              "3           Together       Graduation     1        48  \n",
              "4            Married              PhD     1       407  \n",
              "...              ...              ...   ...       ...  \n",
              "2200         Married       Graduation     1      1094  \n",
              "2201        Together              PhD     3       436  \n",
              "2202        Divorced       Graduation     0      1217  \n",
              "2203        Together           Master     1       782  \n",
              "2204         Married              PhD     2       151  \n",
              "\n",
              "[2205 rows x 34 columns]"
            ],
            "text/html": [
              "\n",
              "  <div id=\"df-118e52d6-8292-4bdd-8c42-668ae6706a85\">\n",
              "    <div class=\"colab-df-container\">\n",
              "      <div>\n",
              "<style scoped>\n",
              "    .dataframe tbody tr th:only-of-type {\n",
              "        vertical-align: middle;\n",
              "    }\n",
              "\n",
              "    .dataframe tbody tr th {\n",
              "        vertical-align: top;\n",
              "    }\n",
              "\n",
              "    .dataframe thead th {\n",
              "        text-align: right;\n",
              "    }\n",
              "</style>\n",
              "<table border=\"1\" class=\"dataframe\">\n",
              "  <thead>\n",
              "    <tr style=\"text-align: right;\">\n",
              "      <th></th>\n",
              "      <th>Unnamed: 0</th>\n",
              "      <th>Income</th>\n",
              "      <th>Kidhome</th>\n",
              "      <th>Teenhome</th>\n",
              "      <th>Recency</th>\n",
              "      <th>MntWines</th>\n",
              "      <th>MntFruits</th>\n",
              "      <th>MntMeatProducts</th>\n",
              "      <th>MntFishProducts</th>\n",
              "      <th>MntSweetProducts</th>\n",
              "      <th>...</th>\n",
              "      <th>Response</th>\n",
              "      <th>Age</th>\n",
              "      <th>Customer_Days</th>\n",
              "      <th>MntTotal</th>\n",
              "      <th>MntRegularProds</th>\n",
              "      <th>AcceptedCmpOverall</th>\n",
              "      <th>marital_status</th>\n",
              "      <th>education_level</th>\n",
              "      <th>kids</th>\n",
              "      <th>expenses</th>\n",
              "    </tr>\n",
              "  </thead>\n",
              "  <tbody>\n",
              "    <tr>\n",
              "      <th>0</th>\n",
              "      <td>0</td>\n",
              "      <td>58138.0</td>\n",
              "      <td>0</td>\n",
              "      <td>0</td>\n",
              "      <td>58</td>\n",
              "      <td>635</td>\n",
              "      <td>88</td>\n",
              "      <td>546</td>\n",
              "      <td>172</td>\n",
              "      <td>88</td>\n",
              "      <td>...</td>\n",
              "      <td>1</td>\n",
              "      <td>63</td>\n",
              "      <td>2822</td>\n",
              "      <td>1529</td>\n",
              "      <td>1441</td>\n",
              "      <td>0</td>\n",
              "      <td>Single</td>\n",
              "      <td>Graduation</td>\n",
              "      <td>0</td>\n",
              "      <td>1529</td>\n",
              "    </tr>\n",
              "    <tr>\n",
              "      <th>1</th>\n",
              "      <td>1</td>\n",
              "      <td>46344.0</td>\n",
              "      <td>1</td>\n",
              "      <td>1</td>\n",
              "      <td>38</td>\n",
              "      <td>11</td>\n",
              "      <td>1</td>\n",
              "      <td>6</td>\n",
              "      <td>2</td>\n",
              "      <td>1</td>\n",
              "      <td>...</td>\n",
              "      <td>0</td>\n",
              "      <td>66</td>\n",
              "      <td>2272</td>\n",
              "      <td>21</td>\n",
              "      <td>15</td>\n",
              "      <td>0</td>\n",
              "      <td>Single</td>\n",
              "      <td>Graduation</td>\n",
              "      <td>2</td>\n",
              "      <td>21</td>\n",
              "    </tr>\n",
              "    <tr>\n",
              "      <th>2</th>\n",
              "      <td>2</td>\n",
              "      <td>71613.0</td>\n",
              "      <td>0</td>\n",
              "      <td>0</td>\n",
              "      <td>26</td>\n",
              "      <td>426</td>\n",
              "      <td>49</td>\n",
              "      <td>127</td>\n",
              "      <td>111</td>\n",
              "      <td>21</td>\n",
              "      <td>...</td>\n",
              "      <td>0</td>\n",
              "      <td>55</td>\n",
              "      <td>2471</td>\n",
              "      <td>734</td>\n",
              "      <td>692</td>\n",
              "      <td>0</td>\n",
              "      <td>Together</td>\n",
              "      <td>Graduation</td>\n",
              "      <td>0</td>\n",
              "      <td>734</td>\n",
              "    </tr>\n",
              "    <tr>\n",
              "      <th>3</th>\n",
              "      <td>3</td>\n",
              "      <td>26646.0</td>\n",
              "      <td>1</td>\n",
              "      <td>0</td>\n",
              "      <td>26</td>\n",
              "      <td>11</td>\n",
              "      <td>4</td>\n",
              "      <td>20</td>\n",
              "      <td>10</td>\n",
              "      <td>3</td>\n",
              "      <td>...</td>\n",
              "      <td>0</td>\n",
              "      <td>36</td>\n",
              "      <td>2298</td>\n",
              "      <td>48</td>\n",
              "      <td>43</td>\n",
              "      <td>0</td>\n",
              "      <td>Together</td>\n",
              "      <td>Graduation</td>\n",
              "      <td>1</td>\n",
              "      <td>48</td>\n",
              "    </tr>\n",
              "    <tr>\n",
              "      <th>4</th>\n",
              "      <td>4</td>\n",
              "      <td>58293.0</td>\n",
              "      <td>1</td>\n",
              "      <td>0</td>\n",
              "      <td>94</td>\n",
              "      <td>173</td>\n",
              "      <td>43</td>\n",
              "      <td>118</td>\n",
              "      <td>46</td>\n",
              "      <td>27</td>\n",
              "      <td>...</td>\n",
              "      <td>0</td>\n",
              "      <td>39</td>\n",
              "      <td>2320</td>\n",
              "      <td>407</td>\n",
              "      <td>392</td>\n",
              "      <td>0</td>\n",
              "      <td>Married</td>\n",
              "      <td>PhD</td>\n",
              "      <td>1</td>\n",
              "      <td>407</td>\n",
              "    </tr>\n",
              "    <tr>\n",
              "      <th>...</th>\n",
              "      <td>...</td>\n",
              "      <td>...</td>\n",
              "      <td>...</td>\n",
              "      <td>...</td>\n",
              "      <td>...</td>\n",
              "      <td>...</td>\n",
              "      <td>...</td>\n",
              "      <td>...</td>\n",
              "      <td>...</td>\n",
              "      <td>...</td>\n",
              "      <td>...</td>\n",
              "      <td>...</td>\n",
              "      <td>...</td>\n",
              "      <td>...</td>\n",
              "      <td>...</td>\n",
              "      <td>...</td>\n",
              "      <td>...</td>\n",
              "      <td>...</td>\n",
              "      <td>...</td>\n",
              "      <td>...</td>\n",
              "      <td>...</td>\n",
              "    </tr>\n",
              "    <tr>\n",
              "      <th>2200</th>\n",
              "      <td>2200</td>\n",
              "      <td>61223.0</td>\n",
              "      <td>0</td>\n",
              "      <td>1</td>\n",
              "      <td>46</td>\n",
              "      <td>709</td>\n",
              "      <td>43</td>\n",
              "      <td>182</td>\n",
              "      <td>42</td>\n",
              "      <td>118</td>\n",
              "      <td>...</td>\n",
              "      <td>0</td>\n",
              "      <td>53</td>\n",
              "      <td>2540</td>\n",
              "      <td>1094</td>\n",
              "      <td>847</td>\n",
              "      <td>0</td>\n",
              "      <td>Married</td>\n",
              "      <td>Graduation</td>\n",
              "      <td>1</td>\n",
              "      <td>1094</td>\n",
              "    </tr>\n",
              "    <tr>\n",
              "      <th>2201</th>\n",
              "      <td>2201</td>\n",
              "      <td>64014.0</td>\n",
              "      <td>2</td>\n",
              "      <td>1</td>\n",
              "      <td>56</td>\n",
              "      <td>406</td>\n",
              "      <td>0</td>\n",
              "      <td>30</td>\n",
              "      <td>0</td>\n",
              "      <td>0</td>\n",
              "      <td>...</td>\n",
              "      <td>0</td>\n",
              "      <td>74</td>\n",
              "      <td>2178</td>\n",
              "      <td>436</td>\n",
              "      <td>428</td>\n",
              "      <td>1</td>\n",
              "      <td>Together</td>\n",
              "      <td>PhD</td>\n",
              "      <td>3</td>\n",
              "      <td>436</td>\n",
              "    </tr>\n",
              "    <tr>\n",
              "      <th>2202</th>\n",
              "      <td>2202</td>\n",
              "      <td>56981.0</td>\n",
              "      <td>0</td>\n",
              "      <td>0</td>\n",
              "      <td>91</td>\n",
              "      <td>908</td>\n",
              "      <td>48</td>\n",
              "      <td>217</td>\n",
              "      <td>32</td>\n",
              "      <td>12</td>\n",
              "      <td>...</td>\n",
              "      <td>0</td>\n",
              "      <td>39</td>\n",
              "      <td>2314</td>\n",
              "      <td>1217</td>\n",
              "      <td>1193</td>\n",
              "      <td>1</td>\n",
              "      <td>Divorced</td>\n",
              "      <td>Graduation</td>\n",
              "      <td>0</td>\n",
              "      <td>1217</td>\n",
              "    </tr>\n",
              "    <tr>\n",
              "      <th>2203</th>\n",
              "      <td>2203</td>\n",
              "      <td>69245.0</td>\n",
              "      <td>0</td>\n",
              "      <td>1</td>\n",
              "      <td>8</td>\n",
              "      <td>428</td>\n",
              "      <td>30</td>\n",
              "      <td>214</td>\n",
              "      <td>80</td>\n",
              "      <td>30</td>\n",
              "      <td>...</td>\n",
              "      <td>0</td>\n",
              "      <td>64</td>\n",
              "      <td>2315</td>\n",
              "      <td>782</td>\n",
              "      <td>721</td>\n",
              "      <td>0</td>\n",
              "      <td>Together</td>\n",
              "      <td>Master</td>\n",
              "      <td>1</td>\n",
              "      <td>782</td>\n",
              "    </tr>\n",
              "    <tr>\n",
              "      <th>2204</th>\n",
              "      <td>2204</td>\n",
              "      <td>52869.0</td>\n",
              "      <td>1</td>\n",
              "      <td>1</td>\n",
              "      <td>40</td>\n",
              "      <td>84</td>\n",
              "      <td>3</td>\n",
              "      <td>61</td>\n",
              "      <td>2</td>\n",
              "      <td>1</td>\n",
              "      <td>...</td>\n",
              "      <td>1</td>\n",
              "      <td>66</td>\n",
              "      <td>2781</td>\n",
              "      <td>151</td>\n",
              "      <td>130</td>\n",
              "      <td>0</td>\n",
              "      <td>Married</td>\n",
              "      <td>PhD</td>\n",
              "      <td>2</td>\n",
              "      <td>151</td>\n",
              "    </tr>\n",
              "  </tbody>\n",
              "</table>\n",
              "<p>2205 rows × 34 columns</p>\n",
              "</div>\n",
              "      <button class=\"colab-df-convert\" onclick=\"convertToInteractive('df-118e52d6-8292-4bdd-8c42-668ae6706a85')\"\n",
              "              title=\"Convert this dataframe to an interactive table.\"\n",
              "              style=\"display:none;\">\n",
              "        \n",
              "  <svg xmlns=\"http://www.w3.org/2000/svg\" height=\"24px\"viewBox=\"0 0 24 24\"\n",
              "       width=\"24px\">\n",
              "    <path d=\"M0 0h24v24H0V0z\" fill=\"none\"/>\n",
              "    <path d=\"M18.56 5.44l.94 2.06.94-2.06 2.06-.94-2.06-.94-.94-2.06-.94 2.06-2.06.94zm-11 1L8.5 8.5l.94-2.06 2.06-.94-2.06-.94L8.5 2.5l-.94 2.06-2.06.94zm10 10l.94 2.06.94-2.06 2.06-.94-2.06-.94-.94-2.06-.94 2.06-2.06.94z\"/><path d=\"M17.41 7.96l-1.37-1.37c-.4-.4-.92-.59-1.43-.59-.52 0-1.04.2-1.43.59L10.3 9.45l-7.72 7.72c-.78.78-.78 2.05 0 2.83L4 21.41c.39.39.9.59 1.41.59.51 0 1.02-.2 1.41-.59l7.78-7.78 2.81-2.81c.8-.78.8-2.07 0-2.86zM5.41 20L4 18.59l7.72-7.72 1.47 1.35L5.41 20z\"/>\n",
              "  </svg>\n",
              "      </button>\n",
              "      \n",
              "  <style>\n",
              "    .colab-df-container {\n",
              "      display:flex;\n",
              "      flex-wrap:wrap;\n",
              "      gap: 12px;\n",
              "    }\n",
              "\n",
              "    .colab-df-convert {\n",
              "      background-color: #E8F0FE;\n",
              "      border: none;\n",
              "      border-radius: 50%;\n",
              "      cursor: pointer;\n",
              "      display: none;\n",
              "      fill: #1967D2;\n",
              "      height: 32px;\n",
              "      padding: 0 0 0 0;\n",
              "      width: 32px;\n",
              "    }\n",
              "\n",
              "    .colab-df-convert:hover {\n",
              "      background-color: #E2EBFA;\n",
              "      box-shadow: 0px 1px 2px rgba(60, 64, 67, 0.3), 0px 1px 3px 1px rgba(60, 64, 67, 0.15);\n",
              "      fill: #174EA6;\n",
              "    }\n",
              "\n",
              "    [theme=dark] .colab-df-convert {\n",
              "      background-color: #3B4455;\n",
              "      fill: #D2E3FC;\n",
              "    }\n",
              "\n",
              "    [theme=dark] .colab-df-convert:hover {\n",
              "      background-color: #434B5C;\n",
              "      box-shadow: 0px 1px 3px 1px rgba(0, 0, 0, 0.15);\n",
              "      filter: drop-shadow(0px 1px 2px rgba(0, 0, 0, 0.3));\n",
              "      fill: #FFFFFF;\n",
              "    }\n",
              "  </style>\n",
              "\n",
              "      <script>\n",
              "        const buttonEl =\n",
              "          document.querySelector('#df-118e52d6-8292-4bdd-8c42-668ae6706a85 button.colab-df-convert');\n",
              "        buttonEl.style.display =\n",
              "          google.colab.kernel.accessAllowed ? 'block' : 'none';\n",
              "\n",
              "        async function convertToInteractive(key) {\n",
              "          const element = document.querySelector('#df-118e52d6-8292-4bdd-8c42-668ae6706a85');\n",
              "          const dataTable =\n",
              "            await google.colab.kernel.invokeFunction('convertToInteractive',\n",
              "                                                     [key], {});\n",
              "          if (!dataTable) return;\n",
              "\n",
              "          const docLinkHtml = 'Like what you see? Visit the ' +\n",
              "            '<a target=\"_blank\" href=https://colab.research.google.com/notebooks/data_table.ipynb>data table notebook</a>'\n",
              "            + ' to learn more about interactive tables.';\n",
              "          element.innerHTML = '';\n",
              "          dataTable['output_type'] = 'display_data';\n",
              "          await google.colab.output.renderOutput(dataTable, element);\n",
              "          const docLink = document.createElement('div');\n",
              "          docLink.innerHTML = docLinkHtml;\n",
              "          element.appendChild(docLink);\n",
              "        }\n",
              "      </script>\n",
              "    </div>\n",
              "  </div>\n",
              "  "
            ]
          },
          "metadata": {},
          "execution_count": 6
        }
      ]
    },
    {
      "cell_type": "code",
      "source": [
        "# média, mediana, 25 percentil, 75 percentil, mínimo e máximo das colunas numéricas:\n",
        "df_clean.describe()"
      ],
      "metadata": {
        "colab": {
          "base_uri": "https://localhost:8080/",
          "height": 394
        },
        "id": "J9VCaG-j9kaO",
        "outputId": "40955500-6fea-49ec-8e4a-029b638ac8b3"
      },
      "execution_count": null,
      "outputs": [
        {
          "output_type": "execute_result",
          "data": {
            "text/plain": [
              "        Unnamed: 0         Income      Kidhome     Teenhome      Recency  \\\n",
              "count  2205.000000    2205.000000  2205.000000  2205.000000  2205.000000   \n",
              "mean   1102.000000   51622.094785     0.442177     0.506576    49.009070   \n",
              "std     636.672993   20713.063826     0.537132     0.544380    28.932111   \n",
              "min       0.000000    1730.000000     0.000000     0.000000     0.000000   \n",
              "25%     551.000000   35196.000000     0.000000     0.000000    24.000000   \n",
              "50%    1102.000000   51287.000000     0.000000     0.000000    49.000000   \n",
              "75%    1653.000000   68281.000000     1.000000     1.000000    74.000000   \n",
              "max    2204.000000  113734.000000     2.000000     2.000000    99.000000   \n",
              "\n",
              "          MntWines    MntFruits  MntMeatProducts  MntFishProducts  \\\n",
              "count  2205.000000  2205.000000      2205.000000      2205.000000   \n",
              "mean    306.164626    26.403175       165.312018        37.756463   \n",
              "std     337.493839    39.784484       217.784507        54.824635   \n",
              "min       0.000000     0.000000         0.000000         0.000000   \n",
              "25%      24.000000     2.000000        16.000000         3.000000   \n",
              "50%     178.000000     8.000000        68.000000        12.000000   \n",
              "75%     507.000000    33.000000       232.000000        50.000000   \n",
              "max    1493.000000   199.000000      1725.000000       259.000000   \n",
              "\n",
              "       MntSweetProducts  ...  Z_CostContact  Z_Revenue    Response  \\\n",
              "count       2205.000000  ...         2205.0     2205.0  2205.00000   \n",
              "mean          27.128345  ...            3.0       11.0     0.15102   \n",
              "std           41.130468  ...            0.0        0.0     0.35815   \n",
              "min            0.000000  ...            3.0       11.0     0.00000   \n",
              "25%            1.000000  ...            3.0       11.0     0.00000   \n",
              "50%            8.000000  ...            3.0       11.0     0.00000   \n",
              "75%           34.000000  ...            3.0       11.0     0.00000   \n",
              "max          262.000000  ...            3.0       11.0     1.00000   \n",
              "\n",
              "               Age  Customer_Days     MntTotal  MntRegularProds  \\\n",
              "count  2205.000000    2205.000000  2205.000000      2205.000000   \n",
              "mean     51.095692    2512.718367   562.764626       518.707483   \n",
              "std      11.705801     202.563647   575.936911       553.847248   \n",
              "min      24.000000    2159.000000     4.000000      -283.000000   \n",
              "25%      43.000000    2339.000000    56.000000        42.000000   \n",
              "50%      50.000000    2515.000000   343.000000       288.000000   \n",
              "75%      61.000000    2688.000000   964.000000       884.000000   \n",
              "max      80.000000    2858.000000  2491.000000      2458.000000   \n",
              "\n",
              "       AcceptedCmpOverall         kids     expenses  \n",
              "count          2205.00000  2205.000000  2205.000000  \n",
              "mean              0.29932     0.948753   562.764626  \n",
              "std               0.68044     0.749231   575.936911  \n",
              "min               0.00000     0.000000     4.000000  \n",
              "25%               0.00000     0.000000    56.000000  \n",
              "50%               0.00000     1.000000   343.000000  \n",
              "75%               0.00000     1.000000   964.000000  \n",
              "max               4.00000     3.000000  2491.000000  \n",
              "\n",
              "[8 rows x 32 columns]"
            ],
            "text/html": [
              "\n",
              "  <div id=\"df-31a2ce47-bf0d-4c6e-9c3e-6a8c6f7547de\">\n",
              "    <div class=\"colab-df-container\">\n",
              "      <div>\n",
              "<style scoped>\n",
              "    .dataframe tbody tr th:only-of-type {\n",
              "        vertical-align: middle;\n",
              "    }\n",
              "\n",
              "    .dataframe tbody tr th {\n",
              "        vertical-align: top;\n",
              "    }\n",
              "\n",
              "    .dataframe thead th {\n",
              "        text-align: right;\n",
              "    }\n",
              "</style>\n",
              "<table border=\"1\" class=\"dataframe\">\n",
              "  <thead>\n",
              "    <tr style=\"text-align: right;\">\n",
              "      <th></th>\n",
              "      <th>Unnamed: 0</th>\n",
              "      <th>Income</th>\n",
              "      <th>Kidhome</th>\n",
              "      <th>Teenhome</th>\n",
              "      <th>Recency</th>\n",
              "      <th>MntWines</th>\n",
              "      <th>MntFruits</th>\n",
              "      <th>MntMeatProducts</th>\n",
              "      <th>MntFishProducts</th>\n",
              "      <th>MntSweetProducts</th>\n",
              "      <th>...</th>\n",
              "      <th>Z_CostContact</th>\n",
              "      <th>Z_Revenue</th>\n",
              "      <th>Response</th>\n",
              "      <th>Age</th>\n",
              "      <th>Customer_Days</th>\n",
              "      <th>MntTotal</th>\n",
              "      <th>MntRegularProds</th>\n",
              "      <th>AcceptedCmpOverall</th>\n",
              "      <th>kids</th>\n",
              "      <th>expenses</th>\n",
              "    </tr>\n",
              "  </thead>\n",
              "  <tbody>\n",
              "    <tr>\n",
              "      <th>count</th>\n",
              "      <td>2205.000000</td>\n",
              "      <td>2205.000000</td>\n",
              "      <td>2205.000000</td>\n",
              "      <td>2205.000000</td>\n",
              "      <td>2205.000000</td>\n",
              "      <td>2205.000000</td>\n",
              "      <td>2205.000000</td>\n",
              "      <td>2205.000000</td>\n",
              "      <td>2205.000000</td>\n",
              "      <td>2205.000000</td>\n",
              "      <td>...</td>\n",
              "      <td>2205.0</td>\n",
              "      <td>2205.0</td>\n",
              "      <td>2205.00000</td>\n",
              "      <td>2205.000000</td>\n",
              "      <td>2205.000000</td>\n",
              "      <td>2205.000000</td>\n",
              "      <td>2205.000000</td>\n",
              "      <td>2205.00000</td>\n",
              "      <td>2205.000000</td>\n",
              "      <td>2205.000000</td>\n",
              "    </tr>\n",
              "    <tr>\n",
              "      <th>mean</th>\n",
              "      <td>1102.000000</td>\n",
              "      <td>51622.094785</td>\n",
              "      <td>0.442177</td>\n",
              "      <td>0.506576</td>\n",
              "      <td>49.009070</td>\n",
              "      <td>306.164626</td>\n",
              "      <td>26.403175</td>\n",
              "      <td>165.312018</td>\n",
              "      <td>37.756463</td>\n",
              "      <td>27.128345</td>\n",
              "      <td>...</td>\n",
              "      <td>3.0</td>\n",
              "      <td>11.0</td>\n",
              "      <td>0.15102</td>\n",
              "      <td>51.095692</td>\n",
              "      <td>2512.718367</td>\n",
              "      <td>562.764626</td>\n",
              "      <td>518.707483</td>\n",
              "      <td>0.29932</td>\n",
              "      <td>0.948753</td>\n",
              "      <td>562.764626</td>\n",
              "    </tr>\n",
              "    <tr>\n",
              "      <th>std</th>\n",
              "      <td>636.672993</td>\n",
              "      <td>20713.063826</td>\n",
              "      <td>0.537132</td>\n",
              "      <td>0.544380</td>\n",
              "      <td>28.932111</td>\n",
              "      <td>337.493839</td>\n",
              "      <td>39.784484</td>\n",
              "      <td>217.784507</td>\n",
              "      <td>54.824635</td>\n",
              "      <td>41.130468</td>\n",
              "      <td>...</td>\n",
              "      <td>0.0</td>\n",
              "      <td>0.0</td>\n",
              "      <td>0.35815</td>\n",
              "      <td>11.705801</td>\n",
              "      <td>202.563647</td>\n",
              "      <td>575.936911</td>\n",
              "      <td>553.847248</td>\n",
              "      <td>0.68044</td>\n",
              "      <td>0.749231</td>\n",
              "      <td>575.936911</td>\n",
              "    </tr>\n",
              "    <tr>\n",
              "      <th>min</th>\n",
              "      <td>0.000000</td>\n",
              "      <td>1730.000000</td>\n",
              "      <td>0.000000</td>\n",
              "      <td>0.000000</td>\n",
              "      <td>0.000000</td>\n",
              "      <td>0.000000</td>\n",
              "      <td>0.000000</td>\n",
              "      <td>0.000000</td>\n",
              "      <td>0.000000</td>\n",
              "      <td>0.000000</td>\n",
              "      <td>...</td>\n",
              "      <td>3.0</td>\n",
              "      <td>11.0</td>\n",
              "      <td>0.00000</td>\n",
              "      <td>24.000000</td>\n",
              "      <td>2159.000000</td>\n",
              "      <td>4.000000</td>\n",
              "      <td>-283.000000</td>\n",
              "      <td>0.00000</td>\n",
              "      <td>0.000000</td>\n",
              "      <td>4.000000</td>\n",
              "    </tr>\n",
              "    <tr>\n",
              "      <th>25%</th>\n",
              "      <td>551.000000</td>\n",
              "      <td>35196.000000</td>\n",
              "      <td>0.000000</td>\n",
              "      <td>0.000000</td>\n",
              "      <td>24.000000</td>\n",
              "      <td>24.000000</td>\n",
              "      <td>2.000000</td>\n",
              "      <td>16.000000</td>\n",
              "      <td>3.000000</td>\n",
              "      <td>1.000000</td>\n",
              "      <td>...</td>\n",
              "      <td>3.0</td>\n",
              "      <td>11.0</td>\n",
              "      <td>0.00000</td>\n",
              "      <td>43.000000</td>\n",
              "      <td>2339.000000</td>\n",
              "      <td>56.000000</td>\n",
              "      <td>42.000000</td>\n",
              "      <td>0.00000</td>\n",
              "      <td>0.000000</td>\n",
              "      <td>56.000000</td>\n",
              "    </tr>\n",
              "    <tr>\n",
              "      <th>50%</th>\n",
              "      <td>1102.000000</td>\n",
              "      <td>51287.000000</td>\n",
              "      <td>0.000000</td>\n",
              "      <td>0.000000</td>\n",
              "      <td>49.000000</td>\n",
              "      <td>178.000000</td>\n",
              "      <td>8.000000</td>\n",
              "      <td>68.000000</td>\n",
              "      <td>12.000000</td>\n",
              "      <td>8.000000</td>\n",
              "      <td>...</td>\n",
              "      <td>3.0</td>\n",
              "      <td>11.0</td>\n",
              "      <td>0.00000</td>\n",
              "      <td>50.000000</td>\n",
              "      <td>2515.000000</td>\n",
              "      <td>343.000000</td>\n",
              "      <td>288.000000</td>\n",
              "      <td>0.00000</td>\n",
              "      <td>1.000000</td>\n",
              "      <td>343.000000</td>\n",
              "    </tr>\n",
              "    <tr>\n",
              "      <th>75%</th>\n",
              "      <td>1653.000000</td>\n",
              "      <td>68281.000000</td>\n",
              "      <td>1.000000</td>\n",
              "      <td>1.000000</td>\n",
              "      <td>74.000000</td>\n",
              "      <td>507.000000</td>\n",
              "      <td>33.000000</td>\n",
              "      <td>232.000000</td>\n",
              "      <td>50.000000</td>\n",
              "      <td>34.000000</td>\n",
              "      <td>...</td>\n",
              "      <td>3.0</td>\n",
              "      <td>11.0</td>\n",
              "      <td>0.00000</td>\n",
              "      <td>61.000000</td>\n",
              "      <td>2688.000000</td>\n",
              "      <td>964.000000</td>\n",
              "      <td>884.000000</td>\n",
              "      <td>0.00000</td>\n",
              "      <td>1.000000</td>\n",
              "      <td>964.000000</td>\n",
              "    </tr>\n",
              "    <tr>\n",
              "      <th>max</th>\n",
              "      <td>2204.000000</td>\n",
              "      <td>113734.000000</td>\n",
              "      <td>2.000000</td>\n",
              "      <td>2.000000</td>\n",
              "      <td>99.000000</td>\n",
              "      <td>1493.000000</td>\n",
              "      <td>199.000000</td>\n",
              "      <td>1725.000000</td>\n",
              "      <td>259.000000</td>\n",
              "      <td>262.000000</td>\n",
              "      <td>...</td>\n",
              "      <td>3.0</td>\n",
              "      <td>11.0</td>\n",
              "      <td>1.00000</td>\n",
              "      <td>80.000000</td>\n",
              "      <td>2858.000000</td>\n",
              "      <td>2491.000000</td>\n",
              "      <td>2458.000000</td>\n",
              "      <td>4.00000</td>\n",
              "      <td>3.000000</td>\n",
              "      <td>2491.000000</td>\n",
              "    </tr>\n",
              "  </tbody>\n",
              "</table>\n",
              "<p>8 rows × 32 columns</p>\n",
              "</div>\n",
              "      <button class=\"colab-df-convert\" onclick=\"convertToInteractive('df-31a2ce47-bf0d-4c6e-9c3e-6a8c6f7547de')\"\n",
              "              title=\"Convert this dataframe to an interactive table.\"\n",
              "              style=\"display:none;\">\n",
              "        \n",
              "  <svg xmlns=\"http://www.w3.org/2000/svg\" height=\"24px\"viewBox=\"0 0 24 24\"\n",
              "       width=\"24px\">\n",
              "    <path d=\"M0 0h24v24H0V0z\" fill=\"none\"/>\n",
              "    <path d=\"M18.56 5.44l.94 2.06.94-2.06 2.06-.94-2.06-.94-.94-2.06-.94 2.06-2.06.94zm-11 1L8.5 8.5l.94-2.06 2.06-.94-2.06-.94L8.5 2.5l-.94 2.06-2.06.94zm10 10l.94 2.06.94-2.06 2.06-.94-2.06-.94-.94-2.06-.94 2.06-2.06.94z\"/><path d=\"M17.41 7.96l-1.37-1.37c-.4-.4-.92-.59-1.43-.59-.52 0-1.04.2-1.43.59L10.3 9.45l-7.72 7.72c-.78.78-.78 2.05 0 2.83L4 21.41c.39.39.9.59 1.41.59.51 0 1.02-.2 1.41-.59l7.78-7.78 2.81-2.81c.8-.78.8-2.07 0-2.86zM5.41 20L4 18.59l7.72-7.72 1.47 1.35L5.41 20z\"/>\n",
              "  </svg>\n",
              "      </button>\n",
              "      \n",
              "  <style>\n",
              "    .colab-df-container {\n",
              "      display:flex;\n",
              "      flex-wrap:wrap;\n",
              "      gap: 12px;\n",
              "    }\n",
              "\n",
              "    .colab-df-convert {\n",
              "      background-color: #E8F0FE;\n",
              "      border: none;\n",
              "      border-radius: 50%;\n",
              "      cursor: pointer;\n",
              "      display: none;\n",
              "      fill: #1967D2;\n",
              "      height: 32px;\n",
              "      padding: 0 0 0 0;\n",
              "      width: 32px;\n",
              "    }\n",
              "\n",
              "    .colab-df-convert:hover {\n",
              "      background-color: #E2EBFA;\n",
              "      box-shadow: 0px 1px 2px rgba(60, 64, 67, 0.3), 0px 1px 3px 1px rgba(60, 64, 67, 0.15);\n",
              "      fill: #174EA6;\n",
              "    }\n",
              "\n",
              "    [theme=dark] .colab-df-convert {\n",
              "      background-color: #3B4455;\n",
              "      fill: #D2E3FC;\n",
              "    }\n",
              "\n",
              "    [theme=dark] .colab-df-convert:hover {\n",
              "      background-color: #434B5C;\n",
              "      box-shadow: 0px 1px 3px 1px rgba(0, 0, 0, 0.15);\n",
              "      filter: drop-shadow(0px 1px 2px rgba(0, 0, 0, 0.3));\n",
              "      fill: #FFFFFF;\n",
              "    }\n",
              "  </style>\n",
              "\n",
              "      <script>\n",
              "        const buttonEl =\n",
              "          document.querySelector('#df-31a2ce47-bf0d-4c6e-9c3e-6a8c6f7547de button.colab-df-convert');\n",
              "        buttonEl.style.display =\n",
              "          google.colab.kernel.accessAllowed ? 'block' : 'none';\n",
              "\n",
              "        async function convertToInteractive(key) {\n",
              "          const element = document.querySelector('#df-31a2ce47-bf0d-4c6e-9c3e-6a8c6f7547de');\n",
              "          const dataTable =\n",
              "            await google.colab.kernel.invokeFunction('convertToInteractive',\n",
              "                                                     [key], {});\n",
              "          if (!dataTable) return;\n",
              "\n",
              "          const docLinkHtml = 'Like what you see? Visit the ' +\n",
              "            '<a target=\"_blank\" href=https://colab.research.google.com/notebooks/data_table.ipynb>data table notebook</a>'\n",
              "            + ' to learn more about interactive tables.';\n",
              "          element.innerHTML = '';\n",
              "          dataTable['output_type'] = 'display_data';\n",
              "          await google.colab.output.renderOutput(dataTable, element);\n",
              "          const docLink = document.createElement('div');\n",
              "          docLink.innerHTML = docLinkHtml;\n",
              "          element.appendChild(docLink);\n",
              "        }\n",
              "      </script>\n",
              "    </div>\n",
              "  </div>\n",
              "  "
            ]
          },
          "metadata": {},
          "execution_count": 8
        }
      ]
    },
    {
      "cell_type": "code",
      "source": [
        "#boxplot\n",
        "sns.boxplot(df.Income)\n",
        "#df.Income é igual df[\"Income\"]"
      ],
      "metadata": {
        "colab": {
          "base_uri": "https://localhost:8080/",
          "height": 447
        },
        "id": "rmjYMjSjV3Ui",
        "outputId": "987755e6-1f45-417a-dbb6-3fafd232cebe"
      },
      "execution_count": null,
      "outputs": [
        {
          "output_type": "execute_result",
          "data": {
            "text/plain": [
              "<Axes: >"
            ]
          },
          "metadata": {},
          "execution_count": 31
        },
        {
          "output_type": "display_data",
          "data": {
            "text/plain": [
              "<Figure size 640x480 with 1 Axes>"
            ],
            "image/png": "[encoded data removed]"
          },
          "metadata": {}
        }
      ]
    },
    {
      "cell_type": "markdown",
      "source": [
        "# 2. Entendendo o perfil dos Clientes Ifood:"
      ],
      "metadata": {
        "id": "emu88aStKYTo"
      }
    },
    {
      "cell_type": "code",
      "source": [
        "# O maior salário da nossa base de dados:\n",
        "\n",
        "df[\"Income\"].max()"
      ],
      "metadata": {
        "colab": {
          "base_uri": "https://localhost:8080/"
        },
        "id": "gPXYU6TZFBqp",
        "outputId": "18cc0515-3ab0-4278-9164-672578f7ac9b"
      },
      "execution_count": null,
      "outputs": [
        {
          "output_type": "execute_result",
          "data": {
            "text/plain": [
              "113734.0"
            ]
          },
          "metadata": {},
          "execution_count": 21
        }
      ]
    },
    {
      "cell_type": "code",
      "source": [
        "# A distribuição de salário na nossa base de dados:\n",
        "plt.hist(df['Income'], bins =50)"
      ],
      "metadata": {
        "colab": {
          "base_uri": "https://localhost:8080/",
          "height": 673
        },
        "id": "aPzV68juLNTS",
        "outputId": "85308a38-48d8-4fd8-813e-3aad4348f260"
      },
      "execution_count": 52,
      "outputs": [
        {
          "output_type": "execute_result",
          "data": {
            "text/plain": [
              "(array([ 3.,  5., 16.,  7.,  6., 19., 30., 36., 34., 66., 53., 66., 67.,\n",
              "        61., 86., 86., 83., 74., 74., 81., 63., 76., 67., 75., 70., 68.,\n",
              "        71., 77., 85., 65., 82., 68., 58., 63., 60., 64., 44., 28., 17.,\n",
              "        20., 13.,  8.,  3.,  2.,  2.,  1.,  1.,  0.,  0.,  1.]),\n",
              " array([  1730.  ,   3970.08,   6210.16,   8450.24,  10690.32,  12930.4 ,\n",
              "         15170.48,  17410.56,  19650.64,  21890.72,  24130.8 ,  26370.88,\n",
              "         28610.96,  30851.04,  33091.12,  35331.2 ,  37571.28,  39811.36,\n",
              "         42051.44,  44291.52,  46531.6 ,  48771.68,  51011.76,  53251.84,\n",
              "         55491.92,  57732.  ,  59972.08,  62212.16,  64452.24,  66692.32,\n",
              "         68932.4 ,  71172.48,  73412.56,  75652.64,  77892.72,  80132.8 ,\n",
              "         82372.88,  84612.96,  86853.04,  89093.12,  91333.2 ,  93573.28,\n",
              "         95813.36,  98053.44, 100293.52, 102533.6 , 104773.68, 107013.76,\n",
              "        109253.84, 111493.92, 113734.  ]),\n",
              " <BarContainer object of 50 artists>)"
            ]
          },
          "metadata": {},
          "execution_count": 52
        },
        {
          "output_type": "display_data",
          "data": {
            "text/plain": [
              "<Figure size 640x480 with 1 Axes>"
            ],
            "image/png": "[encoded data removed]"
          },
          "metadata": {}
        }
      ]
    },
    {
      "cell_type": "code",
      "source": [
        "# Densidade alisada:\n",
        "\n",
        "sns.distplot(df['Income'], bins=10, hist=False)"
      ],
      "metadata": {
        "colab": {
          "base_uri": "https://localhost:8080/",
          "height": 673
        },
        "id": "A5jRyzHQMHB4",
        "outputId": "27c480d8-f0d4-48dd-897e-80436f5b19eb"
      },
      "execution_count": 50,
      "outputs": [
        {
          "output_type": "stream",
          "name": "stderr",
          "text": [
            "<ipython-input-50-a21ea0901295>:1: UserWarning: \n",
            "\n",
            "`distplot` is a deprecated function and will be removed in seaborn v0.14.0.\n",
            "\n",
            "Please adapt your code to use either `displot` (a figure-level function with\n",
            "similar flexibility) or `kdeplot` (an axes-level function for kernel density plots).\n",
            "\n",
            "For a guide to updating your code to use the new functions, please see\n",
            "https://gist.github.com/mwaskom/de44147ed2974457ad6372750bbe5751\n",
            "\n",
            "  sns.distplot(df['Income'], bins=10, hist=False)\n"
          ]
        },
        {
          "output_type": "execute_result",
          "data": {
            "text/plain": [
              "<Axes: xlabel='Income', ylabel='Density'>"
            ]
          },
          "metadata": {},
          "execution_count": 50
        },
        {
          "output_type": "display_data",
          "data": {
            "text/plain": [
              "<Figure size 640x480 with 1 Axes>"
            ],
            "image/png": "[encoded data removed]"
          },
          "metadata": {}
        }
      ]
    },
    {
      "cell_type": "code",
      "source": [
        "# Agora vamos ver o desvio padrão:\n",
        "\n",
        "desvio = df['Income'].std()\n",
        "desvio"
      ],
      "metadata": {
        "colab": {
          "base_uri": "https://localhost:8080/"
        },
        "id": "E-wzFYgcMViO",
        "outputId": "56b63cb9-cb04-4c96-fd88-96f542dddeb7"
      },
      "execution_count": null,
      "outputs": [
        {
          "output_type": "execute_result",
          "data": {
            "text/plain": [
              "20713.06382588019"
            ]
          },
          "metadata": {},
          "execution_count": 28
        }
      ]
    },
    {
      "cell_type": "code",
      "source": [
        "# Coeficiente de variância:\n",
        "\n",
        "coef_var =  (desvio/df['Income'].mean())*100\n",
        "coef_var"
      ],
      "metadata": {
        "colab": {
          "base_uri": "https://localhost:8080/"
        },
        "id": "e6GgpaFdNJnI",
        "outputId": "0f56959a-5049-4f7f-cff4-b0364ee08dc6"
      },
      "execution_count": null,
      "outputs": [
        {
          "output_type": "execute_result",
          "data": {
            "text/plain": [
              "40.12441554786958"
            ]
          },
          "metadata": {},
          "execution_count": 29
        }
      ]
    },
    {
      "cell_type": "markdown",
      "source": [
        "O coeficiente de variância é de 40%, ou seja, o nosso desvio padrão representa 40% da nossa média."
      ],
      "metadata": {
        "id": "Zl_KXDcgO3X1"
      }
    },
    {
      "cell_type": "markdown",
      "source": [
        "Calculando o Skew conseguimos entender onde os outliers estão mais concentrados"
      ],
      "metadata": {
        "id": "e5-WV0ypQ7Fp"
      }
    },
    {
      "cell_type": "code",
      "source": [
        "#Simetria\n",
        "from scipy.stats import skew\n",
        "skew(df['Income'])"
      ],
      "metadata": {
        "colab": {
          "base_uri": "https://localhost:8080/"
        },
        "id": "KVOcShsrRNMT",
        "outputId": "24a1d49f-ead8-4991-a62d-a1855f51e283"
      },
      "execution_count": null,
      "outputs": [
        {
          "output_type": "execute_result",
          "data": {
            "text/plain": [
              "0.013155306440415357"
            ]
          },
          "metadata": {},
          "execution_count": 30
        }
      ]
    },
    {
      "cell_type": "code",
      "source": [
        "# Níveis de educação dos clientes:\n",
        "\n",
        "df[\"education_level\"].value_counts()"
      ],
      "metadata": {
        "colab": {
          "base_uri": "https://localhost:8080/"
        },
        "id": "ijAMQ19HAtdG",
        "outputId": "4f2261cd-be8a-4780-f713-d6aef1f29f95"
      },
      "execution_count": null,
      "outputs": [
        {
          "output_type": "execute_result",
          "data": {
            "text/plain": [
              "Graduation    1113\n",
              "PhD            476\n",
              "Master         364\n",
              "2n Cycle       198\n",
              "Basic           54\n",
              "Name: education_level, dtype: int64"
            ]
          },
          "metadata": {},
          "execution_count": 5
        }
      ]
    },
    {
      "cell_type": "code",
      "source": [
        "# Níveis de educação dos clientes em %:\n",
        "\n",
        "df[\"education_level\"].value_counts()/df.shape[0]*100"
      ],
      "metadata": {
        "colab": {
          "base_uri": "https://localhost:8080/"
        },
        "id": "Mipvcf59CCvq",
        "outputId": "a02b19ae-2f36-4986-d707-871d29f1aacf"
      },
      "execution_count": null,
      "outputs": [
        {
          "output_type": "execute_result",
          "data": {
            "text/plain": [
              "Graduation    50.476190\n",
              "PhD           21.587302\n",
              "Master        16.507937\n",
              "2n Cycle       8.979592\n",
              "Basic          2.448980\n",
              "Name: education_level, dtype: float64"
            ]
          },
          "metadata": {},
          "execution_count": 6
        }
      ]
    },
    {
      "cell_type": "code",
      "source": [
        "# Clientes em cada estado civil:\n",
        "\n",
        "df[\"marital_status\"].value_counts()\n"
      ],
      "metadata": {
        "colab": {
          "base_uri": "https://localhost:8080/"
        },
        "id": "dY2KSmPRDF5d",
        "outputId": "036ef468-3fbd-4e8d-9667-5293c4369c39"
      },
      "execution_count": null,
      "outputs": [
        {
          "output_type": "execute_result",
          "data": {
            "text/plain": [
              "Married     854\n",
              "Together    568\n",
              "Single      477\n",
              "Divorced    230\n",
              "Widow        76\n",
              "Name: marital_status, dtype: int64"
            ]
          },
          "metadata": {},
          "execution_count": 7
        }
      ]
    },
    {
      "cell_type": "code",
      "source": [
        "# Clientes em cada estado civil %:\n",
        "\n",
        "df[\"marital_status\"].value_counts()/df.shape[0]*100"
      ],
      "metadata": {
        "colab": {
          "base_uri": "https://localhost:8080/"
        },
        "id": "mfAMFK_VDrP1",
        "outputId": "73374e59-2fd6-4b61-fff1-fdbac8ce3652"
      },
      "execution_count": null,
      "outputs": [
        {
          "output_type": "execute_result",
          "data": {
            "text/plain": [
              "Married     38.730159\n",
              "Together    25.759637\n",
              "Single      21.632653\n",
              "Divorced    10.430839\n",
              "Widow        3.446712\n",
              "Name: marital_status, dtype: float64"
            ]
          },
          "metadata": {},
          "execution_count": 8
        }
      ]
    },
    {
      "cell_type": "markdown",
      "source": [
        "# 3. Como os dados se correlacionam:"
      ],
      "metadata": {
        "id": "jrqZAqaBEtY2"
      }
    },
    {
      "cell_type": "code",
      "source": [
        "# Verificando a relação do estado civil com a quantidade de filhos:\n",
        "ax = sns.boxplot(x='marital_status', y='kids', data=df)"
      ],
      "metadata": {
        "colab": {
          "base_uri": "https://localhost:8080/",
          "height": 450
        },
        "id": "MRYWyvcUEmNv",
        "outputId": "9037822e-4f2c-4029-87c2-b3f4fb069bc9"
      },
      "execution_count": 13,
      "outputs": [
        {
          "output_type": "display_data",
          "data": {
            "text/plain": [
              "<Figure size 640x480 with 1 Axes>"
            ],
            "image/png": "[encoded data removed]"
          },
          "metadata": {}
        }
      ]
    },
    {
      "cell_type": "code",
      "source": [
        "# Média de filhos por estado civil:\n",
        "\n",
        "c_mean = df.groupby('marital_status')['kids'].mean()\n",
        "c_mean"
      ],
      "metadata": {
        "colab": {
          "base_uri": "https://localhost:8080/"
        },
        "id": "DA8exVfzH6h5",
        "outputId": "601a0d88-8663-43c4-e3d5-770456e97522"
      },
      "execution_count": 45,
      "outputs": [
        {
          "output_type": "execute_result",
          "data": {
            "text/plain": [
              "marital_status\n",
              "Divorced    1.008696\n",
              "Married     0.967213\n",
              "Single      0.859539\n",
              "Together    0.980634\n",
              "Widow       0.881579\n",
              "Name: kids, dtype: float64"
            ]
          },
          "metadata": {},
          "execution_count": 45
        }
      ]
    },
    {
      "cell_type": "code",
      "source": [
        "# Acrescentando a coluna \"estado_civil e verificando a relação entre estado civil e quantidade de filhos:\"\n",
        "\n",
        "condicoes = [(df[\"marital_status\"] == \"Divorced\"),\n",
        "             (df[\"marital_status\"] == \"Married\"),\n",
        "             (df[\"marital_status\"] == \"Single\"),\n",
        "             (df[\"marital_status\"] == \"Together\"),\n",
        "             (df[\"marital_status\"] == \"Widow\")]\n",
        "opcoes = [3,1,2,4,5]\n",
        "df[\"estado_civil\"] = np.select(condicoes,opcoes)             "
      ],
      "metadata": {
        "id": "zQtI_kMaqQcU"
      },
      "execution_count": 8,
      "outputs": []
    },
    {
      "cell_type": "code",
      "source": [
        "ax = sns.boxplot(x='estado_civil', y='kids', data=df)"
      ],
      "metadata": {
        "colab": {
          "base_uri": "https://localhost:8080/",
          "height": 450
        },
        "id": "8n2gDvEWFc4a",
        "outputId": "194f2c19-9c13-4995-a914-270cde03d275"
      },
      "execution_count": 14,
      "outputs": [
        {
          "output_type": "display_data",
          "data": {
            "text/plain": [
              "<Figure size 640x480 with 1 Axes>"
            ],
            "image/png": "[encoded data removed]"
          },
          "metadata": {}
        }
      ]
    },
    {
      "cell_type": "code",
      "source": [
        "# Verificando a correlação entre as despesas com o salário:\n",
        "df[\"expenses\"].corr(df[\"Income\"])"
      ],
      "metadata": {
        "colab": {
          "base_uri": "https://localhost:8080/"
        },
        "id": "GqMLLoqKzAK2",
        "outputId": "39c4b179-38bb-4c68-e6b2-04a48da17fa8"
      },
      "execution_count": 11,
      "outputs": [
        {
          "output_type": "execute_result",
          "data": {
            "text/plain": [
              "0.8230660021398378"
            ]
          },
          "metadata": {},
          "execution_count": 11
        }
      ]
    },
    {
      "cell_type": "code",
      "source": [
        "sns.scatterplot( data=df, x='expenses', y='Income')"
      ],
      "metadata": {
        "colab": {
          "base_uri": "https://localhost:8080/",
          "height": 466
        },
        "id": "xzE2Wddnk8Qf",
        "outputId": "60d07450-98ed-42ab-c401-ee8b19364a4f"
      },
      "execution_count": null,
      "outputs": [
        {
          "output_type": "execute_result",
          "data": {
            "text/plain": [
              "<Axes: xlabel='expenses', ylabel='Income'>"
            ]
          },
          "metadata": {},
          "execution_count": 24
        },
        {
          "output_type": "display_data",
          "data": {
            "text/plain": [
              "<Figure size 640x480 with 1 Axes>"
            ],
            "image/png": "[encoded data removed]"
          },
          "metadata": {}
        }
      ]
    },
    {
      "cell_type": "code",
      "source": [
        "# Verificando a relação de despesas com a quantidade de filhos:\n",
        "df[\"expenses\"].corr(df[\"kids\"])"
      ],
      "metadata": {
        "colab": {
          "base_uri": "https://localhost:8080/"
        },
        "id": "iXtPRde3sOli",
        "outputId": "742b0cfc-609c-4e1e-a9f7-b9a4fafc8b90"
      },
      "execution_count": 46,
      "outputs": [
        {
          "output_type": "execute_result",
          "data": {
            "text/plain": [
              "-0.49902507062615514"
            ]
          },
          "metadata": {},
          "execution_count": 46
        }
      ]
    },
    {
      "cell_type": "code",
      "source": [
        "sns.scatterplot( data=df, x='expenses', y='kids')"
      ],
      "metadata": {
        "colab": {
          "base_uri": "https://localhost:8080/",
          "height": 466
        },
        "id": "TL67YIzospXr",
        "outputId": "0a9f836c-9565-414e-e69e-3f9ae192c319"
      },
      "execution_count": 47,
      "outputs": [
        {
          "output_type": "execute_result",
          "data": {
            "text/plain": [
              "<Axes: xlabel='expenses', ylabel='kids'>"
            ]
          },
          "metadata": {},
          "execution_count": 47
        },
        {
          "output_type": "display_data",
          "data": {
            "text/plain": [
              "<Figure size 640x480 with 1 Axes>"
            ],
            "image/png": "[encoded data removed]"
          },
          "metadata": {}
        }
      ]
    }
  ]
}